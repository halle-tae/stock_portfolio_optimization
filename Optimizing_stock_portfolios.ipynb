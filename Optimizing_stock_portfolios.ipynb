{
  "cells": [
    {
      "cell_type": "markdown",
      "metadata": {
        "id": "YH8W_fQ8Kfox"
      },
      "source": [
        "<center>\n",
        "    <h3>University of Toronto</h3>\n",
        "    <h3>Department of Mechanical and Industrial Engineering</h3>\n",
        "    <h3>MIE368 Analytics in Action </h3>\n",
        "    <h3>(Fall 2024)</h3>\n",
        "    <hr>\n",
        "    <h1>Lab 4: Optimization</h1>\n",
        "    <h3>October 7, 2024</h3>\n",
        "</center>\n",
        "\n",
        "\n"
      ]
    },
    {
      "cell_type": "markdown",
      "metadata": {
        "id": "3wSKYq3fKfo0"
      },
      "source": [
        "# Introduction\n",
        "In this lab, we will be using optimization to solve several decision-making problems. The two main problem classes we will work with are **knapsack problems** and **portfolio optimization** problems. Both problems are widely applicable.\n",
        "\n",
        "Knapsack problems --> linear and integer programming problems\n",
        "\n",
        "Portfolio optimization --> a quadratic programming problem.\n",
        "\n"
      ]
    },
    {
      "cell_type": "markdown",
      "metadata": {
        "id": "bf6ZhC8G_IZT"
      },
      "source": [
        "## Optimization\n",
        "Optimization, as it is studied within the field of operations research (OR), is an example of prescriptive analytics. Instead of making predictions, you are prescribing a best course of action for a given decision-making problem.\n",
        "\n",
        "An optimization problem is described by a vector $\\bf{x}$ modeling decision variables, an objective function $f(\\bf{x})$ to optimize, and a feasible set $\\mathcal{X}$ for which $\\bf{x}$ must belong to, i.e., $\\bf{x} \\in \\mathcal{X}$. The optimization problem is:\n",
        "\n",
        "1. A linear program (LP) when $\\bf{x}$ is made up of continuous variables, $\\mathcal{X}$ is made up of linear constraints, and the objective function is linear in $\\bf{x}$, i.e., $f(\\bf{x}) = \\bf{c}^\\top \\bf{x}$.\n",
        "\n",
        "2. An integer program (IP) if $\\bf{x}$ includes integer variables.\n",
        "\n",
        "3. A quadratic program (QP) if the objective function $f(\\bf{x})$ is quadratic in $\\bf{x}$, i.e., $f(\\bf{x}) = \\bf{x}^\\top\\bf{Q} \\bf{x}$ (where $\\bf{Q}$ is a real symmetric matrix).\n",
        "\n",
        "LPs are easy to solve, and can be solved in polynomial time. On the other hand, IPs are generally difficult to solve, and are $\\mathcal{NP}$-hard problems. QPs are somewhere in between, some are easy to solve and some are hard to solve. You have already been solving QPs in this course! The least squares method (from linear and logistic regression) is a QP, since you are minimizing the *squared* residual errors.\n",
        "\n",
        "\n",
        "To begin this lab, let us first import the essential tools. We will be using a solver called CVXPY to solve all our optimization problems. If you would like more practice, or would like to see how cvxpy can be used to solve more complicated optimization problems than those presented in this lab, please visit the [website](https://www.cvxpy.org/) where there are lots of resources and example codes. There are many other open-source solvers and packages available (e.g., [OR-Tools](https://developers.google.com/optimization/introduction/overview), [PuLP](https://coin-or.github.io/pulp/)) that are more powerful than CVXPY, however, CVXPY has more friendly syntax."
      ]
    },
    {
      "cell_type": "code",
      "execution_count": null,
      "metadata": {
        "id": "a0F2haj51hvI",
        "colab": {
          "base_uri": "https://localhost:8080/"
        },
        "outputId": "6582376c-be6f-445b-dcd3-eb3a15d6042c"
      },
      "outputs": [
        {
          "output_type": "stream",
          "name": "stdout",
          "text": [
            "Requirement already satisfied: cvxpy in /usr/local/lib/python3.10/dist-packages (1.5.3)\n",
            "Requirement already satisfied: osqp>=0.6.2 in /usr/local/lib/python3.10/dist-packages (from cvxpy) (0.6.7.post0)\n",
            "Requirement already satisfied: ecos>=2 in /usr/local/lib/python3.10/dist-packages (from cvxpy) (2.0.14)\n",
            "Requirement already satisfied: clarabel>=0.5.0 in /usr/local/lib/python3.10/dist-packages (from cvxpy) (0.9.0)\n",
            "Requirement already satisfied: scs>=3.2.4.post1 in /usr/local/lib/python3.10/dist-packages (from cvxpy) (3.2.7)\n",
            "Requirement already satisfied: numpy>=1.15 in /usr/local/lib/python3.10/dist-packages (from cvxpy) (1.26.4)\n",
            "Requirement already satisfied: scipy>=1.1.0 in /usr/local/lib/python3.10/dist-packages (from cvxpy) (1.13.1)\n",
            "Requirement already satisfied: qdldl in /usr/local/lib/python3.10/dist-packages (from osqp>=0.6.2->cvxpy) (0.1.7.post4)\n"
          ]
        }
      ],
      "source": [
        "!pip install cvxpy"
      ]
    },
    {
      "cell_type": "code",
      "execution_count": null,
      "metadata": {
        "id": "316A40hsKfo1"
      },
      "outputs": [],
      "source": [
        "import matplotlib\n",
        "import matplotlib.pyplot as plt\n",
        "import numpy as np\n",
        "import pandas as pd\n",
        "import cvxpy as cp\n",
        "\n",
        "# Extra package for scraping data (details not covered in course)\n",
        "import datetime"
      ]
    },
    {
      "cell_type": "markdown",
      "metadata": {
        "id": "6xXn87eB---q"
      },
      "source": [
        "# Knapsack Problems\n",
        "\n",
        "The first problem we will study is called the Knapsack Problem. The general idea is as follows. You have a knapsack with some capacity and you want to put a set of items into it. You generally cannot fit all of the items into the knapsack, so you have to decide which items to pack. Each item has a weight and a value, and you want to find the subset of items of maximum total value such that its total weight does not exceed the capacity.\n",
        "\n",
        "The knapsack problem is an integer programming problem --> the variables take on binary values: you either pick an item or you don't.\n",
        "\n",
        "Mathematically, the knapsack problem is as follows:\n",
        "\n",
        "\n",
        "\\begin{align*}\n",
        "        \\max_{\\bf{x}} \\quad    & \\sum_{j=1}^n v_j x_j \\\\\n",
        "        s.t. \\quad           & \\sum_{j=1}^n w_{j} x_j \\leq C, \\\\\n",
        "\t\t\\quad & x_j \\in \\{0,1\\},  \\quad \\forall j \\in \\{1,\\dots,n\\}.\n",
        "\\end{align*}\n",
        "\n",
        "In the above formulation $v_j$ represents the value of item $j$, $x_j$ is our decision variable representing whether or not we put item $j$ in the knapsack, $w_j$ is the weight of item $j$, and $C$ is the capacity of our knapsack. The first constraint ensures the total weight of our items does not exceed the knapsack, and it is called a *knapsack constraint*.\n",
        "\n",
        "In certain problems, we may want to consider *fractional knapsack problems*, which is simply the formulation above without the integrality constraints, i.e., the vector $\\bf{x}$ is continuous and can include any values between 0 and 1. The fractional knapsack problem is an LP, whereas the general knapsack problem is an IP.\n",
        "\n"
      ]
    },
    {
      "cell_type": "markdown",
      "metadata": {
        "id": "BbYNRtUO-0eN"
      },
      "source": [
        "##Application\n",
        "\n",
        "Many problems can be formulated as knapsack problems. Below we present an application of building an itinerary.\n",
        "\n",
        "Katie is visiting Toronto. She has **8 hours** to explore the city and wants to make the most use of her time. She has marked a total of 10 places/attractions that she would like to visit in her guidebook. Furthermore, the guidebook provides a suggestion for the amount of time to spend at each attraction. For any place she visits, Katie plans to spend the amount of time suggested by the guidebook. She prefers some attractions more than others. Suppose her preference for each attraction is described using a **utility** score between 0-1.\n",
        "\n",
        "We use the following dictionary to define the 10 sites, their scores and the estimated time that Katie should spend at each site.\n"
      ]
    },
    {
      "cell_type": "code",
      "execution_count": null,
      "metadata": {
        "colab": {
          "base_uri": "https://localhost:8080/",
          "height": 129
        },
        "id": "iGaYST8DKfo9",
        "outputId": "162a7ba1-53ec-4535-da05-70a4269fddba"
      },
      "outputs": [
        {
          "output_type": "execute_result",
          "data": {
            "text/plain": [
              "         CN Tower   ROM   AGO  UofT  K. Market  Casa Loma  Ripleys  High Park  \\\n",
              "utility       0.8  0.43  0.56  0.46        0.4        0.6     0.75       0.68   \n",
              "time          2.0  3.00  2.50  1.50        1.0        1.5     2.50       2.00   \n",
              "\n",
              "         NP Square  Island  \n",
              "utility       0.42    0.71  \n",
              "time          1.00    2.50  "
            ],
            "text/html": [
              "\n",
              "  <div id=\"df-45f905cb-0450-47e9-b220-b319b0b90822\" class=\"colab-df-container\">\n",
              "    <div>\n",
              "<style scoped>\n",
              "    .dataframe tbody tr th:only-of-type {\n",
              "        vertical-align: middle;\n",
              "    }\n",
              "\n",
              "    .dataframe tbody tr th {\n",
              "        vertical-align: top;\n",
              "    }\n",
              "\n",
              "    .dataframe thead th {\n",
              "        text-align: right;\n",
              "    }\n",
              "</style>\n",
              "<table border=\"1\" class=\"dataframe\">\n",
              "  <thead>\n",
              "    <tr style=\"text-align: right;\">\n",
              "      <th></th>\n",
              "      <th>CN Tower</th>\n",
              "      <th>ROM</th>\n",
              "      <th>AGO</th>\n",
              "      <th>UofT</th>\n",
              "      <th>K. Market</th>\n",
              "      <th>Casa Loma</th>\n",
              "      <th>Ripleys</th>\n",
              "      <th>High Park</th>\n",
              "      <th>NP Square</th>\n",
              "      <th>Island</th>\n",
              "    </tr>\n",
              "  </thead>\n",
              "  <tbody>\n",
              "    <tr>\n",
              "      <th>utility</th>\n",
              "      <td>0.8</td>\n",
              "      <td>0.43</td>\n",
              "      <td>0.56</td>\n",
              "      <td>0.46</td>\n",
              "      <td>0.4</td>\n",
              "      <td>0.6</td>\n",
              "      <td>0.75</td>\n",
              "      <td>0.68</td>\n",
              "      <td>0.42</td>\n",
              "      <td>0.71</td>\n",
              "    </tr>\n",
              "    <tr>\n",
              "      <th>time</th>\n",
              "      <td>2.0</td>\n",
              "      <td>3.00</td>\n",
              "      <td>2.50</td>\n",
              "      <td>1.50</td>\n",
              "      <td>1.0</td>\n",
              "      <td>1.5</td>\n",
              "      <td>2.50</td>\n",
              "      <td>2.00</td>\n",
              "      <td>1.00</td>\n",
              "      <td>2.50</td>\n",
              "    </tr>\n",
              "  </tbody>\n",
              "</table>\n",
              "</div>\n",
              "    <div class=\"colab-df-buttons\">\n",
              "\n",
              "  <div class=\"colab-df-container\">\n",
              "    <button class=\"colab-df-convert\" onclick=\"convertToInteractive('df-45f905cb-0450-47e9-b220-b319b0b90822')\"\n",
              "            title=\"Convert this dataframe to an interactive table.\"\n",
              "            style=\"display:none;\">\n",
              "\n",
              "  <svg xmlns=\"http://www.w3.org/2000/svg\" height=\"24px\" viewBox=\"0 -960 960 960\">\n",
              "    <path d=\"M120-120v-720h720v720H120Zm60-500h600v-160H180v160Zm220 220h160v-160H400v160Zm0 220h160v-160H400v160ZM180-400h160v-160H180v160Zm440 0h160v-160H620v160ZM180-180h160v-160H180v160Zm440 0h160v-160H620v160Z\"/>\n",
              "  </svg>\n",
              "    </button>\n",
              "\n",
              "  <style>\n",
              "    .colab-df-container {\n",
              "      display:flex;\n",
              "      gap: 12px;\n",
              "    }\n",
              "\n",
              "    .colab-df-convert {\n",
              "      background-color: #E8F0FE;\n",
              "      border: none;\n",
              "      border-radius: 50%;\n",
              "      cursor: pointer;\n",
              "      display: none;\n",
              "      fill: #1967D2;\n",
              "      height: 32px;\n",
              "      padding: 0 0 0 0;\n",
              "      width: 32px;\n",
              "    }\n",
              "\n",
              "    .colab-df-convert:hover {\n",
              "      background-color: #E2EBFA;\n",
              "      box-shadow: 0px 1px 2px rgba(60, 64, 67, 0.3), 0px 1px 3px 1px rgba(60, 64, 67, 0.15);\n",
              "      fill: #174EA6;\n",
              "    }\n",
              "\n",
              "    .colab-df-buttons div {\n",
              "      margin-bottom: 4px;\n",
              "    }\n",
              "\n",
              "    [theme=dark] .colab-df-convert {\n",
              "      background-color: #3B4455;\n",
              "      fill: #D2E3FC;\n",
              "    }\n",
              "\n",
              "    [theme=dark] .colab-df-convert:hover {\n",
              "      background-color: #434B5C;\n",
              "      box-shadow: 0px 1px 3px 1px rgba(0, 0, 0, 0.15);\n",
              "      filter: drop-shadow(0px 1px 2px rgba(0, 0, 0, 0.3));\n",
              "      fill: #FFFFFF;\n",
              "    }\n",
              "  </style>\n",
              "\n",
              "    <script>\n",
              "      const buttonEl =\n",
              "        document.querySelector('#df-45f905cb-0450-47e9-b220-b319b0b90822 button.colab-df-convert');\n",
              "      buttonEl.style.display =\n",
              "        google.colab.kernel.accessAllowed ? 'block' : 'none';\n",
              "\n",
              "      async function convertToInteractive(key) {\n",
              "        const element = document.querySelector('#df-45f905cb-0450-47e9-b220-b319b0b90822');\n",
              "        const dataTable =\n",
              "          await google.colab.kernel.invokeFunction('convertToInteractive',\n",
              "                                                    [key], {});\n",
              "        if (!dataTable) return;\n",
              "\n",
              "        const docLinkHtml = 'Like what you see? Visit the ' +\n",
              "          '<a target=\"_blank\" href=https://colab.research.google.com/notebooks/data_table.ipynb>data table notebook</a>'\n",
              "          + ' to learn more about interactive tables.';\n",
              "        element.innerHTML = '';\n",
              "        dataTable['output_type'] = 'display_data';\n",
              "        await google.colab.output.renderOutput(dataTable, element);\n",
              "        const docLink = document.createElement('div');\n",
              "        docLink.innerHTML = docLinkHtml;\n",
              "        element.appendChild(docLink);\n",
              "      }\n",
              "    </script>\n",
              "  </div>\n",
              "\n",
              "\n",
              "<div id=\"df-aa79e7ba-10d1-4b4d-a3fa-e0bd88f7ed34\">\n",
              "  <button class=\"colab-df-quickchart\" onclick=\"quickchart('df-aa79e7ba-10d1-4b4d-a3fa-e0bd88f7ed34')\"\n",
              "            title=\"Suggest charts\"\n",
              "            style=\"display:none;\">\n",
              "\n",
              "<svg xmlns=\"http://www.w3.org/2000/svg\" height=\"24px\"viewBox=\"0 0 24 24\"\n",
              "     width=\"24px\">\n",
              "    <g>\n",
              "        <path d=\"M19 3H5c-1.1 0-2 .9-2 2v14c0 1.1.9 2 2 2h14c1.1 0 2-.9 2-2V5c0-1.1-.9-2-2-2zM9 17H7v-7h2v7zm4 0h-2V7h2v10zm4 0h-2v-4h2v4z\"/>\n",
              "    </g>\n",
              "</svg>\n",
              "  </button>\n",
              "\n",
              "<style>\n",
              "  .colab-df-quickchart {\n",
              "      --bg-color: #E8F0FE;\n",
              "      --fill-color: #1967D2;\n",
              "      --hover-bg-color: #E2EBFA;\n",
              "      --hover-fill-color: #174EA6;\n",
              "      --disabled-fill-color: #AAA;\n",
              "      --disabled-bg-color: #DDD;\n",
              "  }\n",
              "\n",
              "  [theme=dark] .colab-df-quickchart {\n",
              "      --bg-color: #3B4455;\n",
              "      --fill-color: #D2E3FC;\n",
              "      --hover-bg-color: #434B5C;\n",
              "      --hover-fill-color: #FFFFFF;\n",
              "      --disabled-bg-color: #3B4455;\n",
              "      --disabled-fill-color: #666;\n",
              "  }\n",
              "\n",
              "  .colab-df-quickchart {\n",
              "    background-color: var(--bg-color);\n",
              "    border: none;\n",
              "    border-radius: 50%;\n",
              "    cursor: pointer;\n",
              "    display: none;\n",
              "    fill: var(--fill-color);\n",
              "    height: 32px;\n",
              "    padding: 0;\n",
              "    width: 32px;\n",
              "  }\n",
              "\n",
              "  .colab-df-quickchart:hover {\n",
              "    background-color: var(--hover-bg-color);\n",
              "    box-shadow: 0 1px 2px rgba(60, 64, 67, 0.3), 0 1px 3px 1px rgba(60, 64, 67, 0.15);\n",
              "    fill: var(--button-hover-fill-color);\n",
              "  }\n",
              "\n",
              "  .colab-df-quickchart-complete:disabled,\n",
              "  .colab-df-quickchart-complete:disabled:hover {\n",
              "    background-color: var(--disabled-bg-color);\n",
              "    fill: var(--disabled-fill-color);\n",
              "    box-shadow: none;\n",
              "  }\n",
              "\n",
              "  .colab-df-spinner {\n",
              "    border: 2px solid var(--fill-color);\n",
              "    border-color: transparent;\n",
              "    border-bottom-color: var(--fill-color);\n",
              "    animation:\n",
              "      spin 1s steps(1) infinite;\n",
              "  }\n",
              "\n",
              "  @keyframes spin {\n",
              "    0% {\n",
              "      border-color: transparent;\n",
              "      border-bottom-color: var(--fill-color);\n",
              "      border-left-color: var(--fill-color);\n",
              "    }\n",
              "    20% {\n",
              "      border-color: transparent;\n",
              "      border-left-color: var(--fill-color);\n",
              "      border-top-color: var(--fill-color);\n",
              "    }\n",
              "    30% {\n",
              "      border-color: transparent;\n",
              "      border-left-color: var(--fill-color);\n",
              "      border-top-color: var(--fill-color);\n",
              "      border-right-color: var(--fill-color);\n",
              "    }\n",
              "    40% {\n",
              "      border-color: transparent;\n",
              "      border-right-color: var(--fill-color);\n",
              "      border-top-color: var(--fill-color);\n",
              "    }\n",
              "    60% {\n",
              "      border-color: transparent;\n",
              "      border-right-color: var(--fill-color);\n",
              "    }\n",
              "    80% {\n",
              "      border-color: transparent;\n",
              "      border-right-color: var(--fill-color);\n",
              "      border-bottom-color: var(--fill-color);\n",
              "    }\n",
              "    90% {\n",
              "      border-color: transparent;\n",
              "      border-bottom-color: var(--fill-color);\n",
              "    }\n",
              "  }\n",
              "</style>\n",
              "\n",
              "  <script>\n",
              "    async function quickchart(key) {\n",
              "      const quickchartButtonEl =\n",
              "        document.querySelector('#' + key + ' button');\n",
              "      quickchartButtonEl.disabled = true;  // To prevent multiple clicks.\n",
              "      quickchartButtonEl.classList.add('colab-df-spinner');\n",
              "      try {\n",
              "        const charts = await google.colab.kernel.invokeFunction(\n",
              "            'suggestCharts', [key], {});\n",
              "      } catch (error) {\n",
              "        console.error('Error during call to suggestCharts:', error);\n",
              "      }\n",
              "      quickchartButtonEl.classList.remove('colab-df-spinner');\n",
              "      quickchartButtonEl.classList.add('colab-df-quickchart-complete');\n",
              "    }\n",
              "    (() => {\n",
              "      let quickchartButtonEl =\n",
              "        document.querySelector('#df-aa79e7ba-10d1-4b4d-a3fa-e0bd88f7ed34 button');\n",
              "      quickchartButtonEl.style.display =\n",
              "        google.colab.kernel.accessAllowed ? 'block' : 'none';\n",
              "    })();\n",
              "  </script>\n",
              "</div>\n",
              "\n",
              "    </div>\n",
              "  </div>\n"
            ],
            "application/vnd.google.colaboratory.intrinsic+json": {
              "type": "dataframe",
              "variable_name": "df",
              "summary": "{\n  \"name\": \"df\",\n  \"rows\": 2,\n  \"fields\": [\n    {\n      \"column\": \"CN Tower\",\n      \"properties\": {\n        \"dtype\": \"number\",\n        \"std\": 0.848528137423857,\n        \"min\": 0.8,\n        \"max\": 2.0,\n        \"num_unique_values\": 2,\n        \"samples\": [\n          2.0,\n          0.8\n        ],\n        \"semantic_type\": \"\",\n        \"description\": \"\"\n      }\n    },\n    {\n      \"column\": \"ROM\",\n      \"properties\": {\n        \"dtype\": \"number\",\n        \"std\": 1.8172644276494272,\n        \"min\": 0.43,\n        \"max\": 3.0,\n        \"num_unique_values\": 2,\n        \"samples\": [\n          3.0,\n          0.43\n        ],\n        \"semantic_type\": \"\",\n        \"description\": \"\"\n      }\n    },\n    {\n      \"column\": \"AGO\",\n      \"properties\": {\n        \"dtype\": \"number\",\n        \"std\": 1.3717871555019021,\n        \"min\": 0.56,\n        \"max\": 2.5,\n        \"num_unique_values\": 2,\n        \"samples\": [\n          2.5,\n          0.56\n        ],\n        \"semantic_type\": \"\",\n        \"description\": \"\"\n      }\n    },\n    {\n      \"column\": \"UofT\",\n      \"properties\": {\n        \"dtype\": \"number\",\n        \"std\": 0.7353910524340095,\n        \"min\": 0.46,\n        \"max\": 1.5,\n        \"num_unique_values\": 2,\n        \"samples\": [\n          1.5,\n          0.46\n        ],\n        \"semantic_type\": \"\",\n        \"description\": \"\"\n      }\n    },\n    {\n      \"column\": \"K. Market\",\n      \"properties\": {\n        \"dtype\": \"number\",\n        \"std\": 0.4242640687119285,\n        \"min\": 0.4,\n        \"max\": 1.0,\n        \"num_unique_values\": 2,\n        \"samples\": [\n          1.0,\n          0.4\n        ],\n        \"semantic_type\": \"\",\n        \"description\": \"\"\n      }\n    },\n    {\n      \"column\": \"Casa Loma\",\n      \"properties\": {\n        \"dtype\": \"number\",\n        \"std\": 0.6363961030678927,\n        \"min\": 0.6,\n        \"max\": 1.5,\n        \"num_unique_values\": 2,\n        \"samples\": [\n          1.5,\n          0.6\n        ],\n        \"semantic_type\": \"\",\n        \"description\": \"\"\n      }\n    },\n    {\n      \"column\": \"Ripleys\",\n      \"properties\": {\n        \"dtype\": \"number\",\n        \"std\": 1.2374368670764582,\n        \"min\": 0.75,\n        \"max\": 2.5,\n        \"num_unique_values\": 2,\n        \"samples\": [\n          2.5,\n          0.75\n        ],\n        \"semantic_type\": \"\",\n        \"description\": \"\"\n      }\n    },\n    {\n      \"column\": \"High Park\",\n      \"properties\": {\n        \"dtype\": \"number\",\n        \"std\": 0.9333809511662428,\n        \"min\": 0.68,\n        \"max\": 2.0,\n        \"num_unique_values\": 2,\n        \"samples\": [\n          2.0,\n          0.68\n        ],\n        \"semantic_type\": \"\",\n        \"description\": \"\"\n      }\n    },\n    {\n      \"column\": \"NP Square\",\n      \"properties\": {\n        \"dtype\": \"number\",\n        \"std\": 0.4101219330881976,\n        \"min\": 0.42,\n        \"max\": 1.0,\n        \"num_unique_values\": 2,\n        \"samples\": [\n          1.0,\n          0.42\n        ],\n        \"semantic_type\": \"\",\n        \"description\": \"\"\n      }\n    },\n    {\n      \"column\": \"Island\",\n      \"properties\": {\n        \"dtype\": \"number\",\n        \"std\": 1.26572113832392,\n        \"min\": 0.71,\n        \"max\": 2.5,\n        \"num_unique_values\": 2,\n        \"samples\": [\n          2.5,\n          0.71\n        ],\n        \"semantic_type\": \"\",\n        \"description\": \"\"\n      }\n    }\n  ]\n}"
            }
          },
          "metadata": {},
          "execution_count": 3
        }
      ],
      "source": [
        "# Initialize dictionary of scores and estimated times\n",
        "K_dict = {'CN Tower': [0.8, 2], 'ROM': [0.43,3], 'AGO': [ 0.56, 2.5], 'UofT': [0.46,1.5], 'K. Market': [0.4,1],\n",
        "          'Casa Loma': [0.6, 1.5], 'Ripleys': [0.75,2.5], 'High Park': [0.68, 2], 'NP Square': [0.42, 1], 'Island': [0.71,2.5]}\n",
        "\n",
        "# Convert dictionary to DataFrame\n",
        "df = pd.DataFrame(K_dict, index = ['utility', 'time'])\n",
        "df.head()\n",
        "\n"
      ]
    },
    {
      "cell_type": "markdown",
      "metadata": {
        "id": "vufvZuq2UB9w"
      },
      "source": [
        "### Exercises\n"
      ]
    },
    {
      "cell_type": "markdown",
      "metadata": {
        "id": "sQuH4aeCU6DM"
      },
      "source": [
        "Suppose Katie started adding destinations to her itinerary in a *greedy* manner, which means she begins by adding the location giving her the highest utility, followed by the location with the second highest utility and so on, until she can't fit anymore destinations into her itinerary.\n",
        "\n",
        "Question 1: What would her *greedy-optimal* itinerary look like?\n",
        "\n"
      ]
    },
    {
      "cell_type": "markdown",
      "metadata": {
        "id": "xGCN5dddtRGB"
      },
      "source": [
        "___\n",
        "\n",
        "**Question 1 Answer:** Cn Tower - 2, Ripleys - 2.5, Island - 2.5, NP Square - 1\n",
        "\n",
        "___"
      ]
    },
    {
      "cell_type": "markdown",
      "metadata": {
        "id": "gN0VBVfrtUUK"
      },
      "source": [
        "Question 2: How much total utility would it give her?"
      ]
    },
    {
      "cell_type": "markdown",
      "metadata": {
        "id": "mlMe18Roteud"
      },
      "source": [
        "___\n",
        "\n",
        "**Question 2 Answer:** 0.8 + 0.75 + 0.71 + 0.42 = 2.68\n",
        "\n",
        "___"
      ]
    },
    {
      "cell_type": "markdown",
      "metadata": {
        "id": "LvA04aomthdb"
      },
      "source": [
        "\n",
        "Question 3: Does she have any free time?\n"
      ]
    },
    {
      "cell_type": "markdown",
      "metadata": {
        "id": "AtkYS_4ithia"
      },
      "source": [
        "___\n",
        "\n",
        "**Question 3 Answer:** she has no free time\n",
        "\n",
        "___"
      ]
    },
    {
      "cell_type": "markdown",
      "metadata": {
        "id": "-06i0w3wthsK"
      },
      "source": [
        "Question 4: While you can compute this solution by hand, can you write code (hint: use a for/while loop) to compute this greedy solution?"
      ]
    },
    {
      "cell_type": "code",
      "execution_count": null,
      "metadata": {
        "colab": {
          "base_uri": "https://localhost:8080/",
          "height": 142
        },
        "id": "VBsxYK4ryv7W",
        "outputId": "b658e900-eb45-4116-e607-b6b67537d375"
      },
      "outputs": [
        {
          "output_type": "stream",
          "name": "stdout",
          "text": [
            "Selected items: [('CN Tower', [0.8, 2]), ('Ripleys', [0.75, 2.5]), ('Island', [0.71, 2.5]), ('NP Square', [0.42, 1])]\n",
            "Total utility_sum (value[0]): 2.6799999999999997\n",
            "Total time (value[1]): 8.0\n"
          ]
        },
        {
          "output_type": "execute_result",
          "data": {
            "text/plain": [
              "\"\\nWhen constructed in a greedy fashion, Katie's itinerary is:\\n ['CN Tower', 'Ripleys', 'Island', 'NP Square'].\\nThis itinerary gives her a total utility of: 2.6799999999999997.\\nShe has a total of 0.0 hour(s) that did not get used.\\n\""
            ],
            "application/vnd.google.colaboratory.intrinsic+json": {
              "type": "string"
            }
          },
          "metadata": {},
          "execution_count": 4
        }
      ],
      "source": [
        "# Write your code here\n",
        "\n",
        "# Step 1: Sort items based on value[0] (utility) in descending order\n",
        "sorted_items = sorted(K_dict.items(), key=lambda item: item[1][0], reverse=True)\n",
        "\n",
        "# Step 2: Initialize variables for the greedy selection\n",
        "selected_items = []\n",
        "utility_sum = 0  # This will track the sum of value[0]\n",
        "time_sum = 0  # This will track the sum of value[1]\n",
        "max_constraint = 8  # Maximum allowed sum of value[1] (time in hours)\n",
        "\n",
        "# Step 3: Greedily select items\n",
        "for key, value in sorted_items:\n",
        "    # Check if adding the current item's time exceeds the max_constraint\n",
        "    if time_sum + value[1] <= max_constraint:\n",
        "        selected_items.append((key, value))\n",
        "        utility_sum += value[0]  # Add value[0] to the utility sum\n",
        "        time_sum += value[1]  # Add value[1] to the time sum\n",
        "\n",
        "# Output the results\n",
        "print(\"Selected items:\", selected_items)\n",
        "print(\"Total utility_sum (value[0]):\", utility_sum)\n",
        "print(\"Total time (value[1]):\", time_sum)\n",
        "\n",
        "'''\n",
        "When constructed in a greedy fashion, Katie's itinerary is:\n",
        " ['CN Tower', 'Ripleys', 'Island', 'NP Square'].\n",
        "This itinerary gives her a total utility of: 2.6799999999999997.\n",
        "She has a total of 0.0 hour(s) that did not get used.\n",
        "'''"
      ]
    },
    {
      "cell_type": "code",
      "source": [
        "# Write your code here\n",
        "\n",
        "# -------------------\n",
        "most_util = []\n",
        "dict_copy = K_dict.copy()\n",
        "most = ''\n",
        "time = 8\n",
        "util = 0\n",
        "total_util = 0\n",
        "\n",
        "while time > 0:\n",
        "    for i in dict_copy:\n",
        "        if dict_copy[i][0]>util:\n",
        "            most=i\n",
        "            util = dict_copy[i][0]\n",
        "    #print(dict_copy[most])\n",
        "    if time-dict_copy[most][1] >= 0:\n",
        "        time -= dict_copy[most][1]\n",
        "        most_util.append(most)\n",
        "        total_util += dict_copy[most][0]\n",
        "    del dict_copy[most]\n",
        "    util=0\n",
        "\n",
        "print(f\"When constructed in a greedy fashion, Katie's itinerary is:\\n{most_util}\")\n",
        "print(f\"This itinerary gives her a total utility of: {total_util}\")\n",
        "print(f\"She has a total of {time} hour(s) that did not get used.\")"
      ],
      "metadata": {
        "id": "9BVcIgwjoCVx"
      },
      "execution_count": null,
      "outputs": []
    },
    {
      "cell_type": "markdown",
      "metadata": {
        "id": "Jo9_ElgB91yS"
      },
      "source": [
        "Question 5: Do you think this is a good approach to constructing an itinerary? Why or why not?"
      ]
    },
    {
      "cell_type": "markdown",
      "metadata": {
        "id": "Vo0M7B8H-c8N"
      },
      "source": [
        "___\n",
        "\n",
        "**Question 5 Answer:** I think this is a decent method because it gets the most important places which is important to the user while staying in the time constraint provided by the user\n",
        "\n",
        "\n",
        "___"
      ]
    },
    {
      "cell_type": "markdown",
      "metadata": {
        "id": "WwMDif2kQnq6"
      },
      "source": [
        "## Coding the optimization model"
      ]
    },
    {
      "cell_type": "markdown",
      "metadata": {
        "id": "f7ZDHdd6MML-"
      },
      "source": [
        "We will define a knapsack problem according to the problem description above and use `cvxpy` to formulate and solve this problem.\n",
        "\n",
        "We'll start with the variables. **To define a variable or a set of variables, we use the function** `cp.Variable()`.\n",
        "\n",
        "If you input a number, the function will create a *set* of variables as shown below.  By default a variable is continuous, but you can use the parameters (`boolean = True`) or (`integer = True`) to create binary or integer variables, respectively."
      ]
    },
    {
      "cell_type": "code",
      "execution_count": null,
      "metadata": {
        "id": "LwvU81CwqupQ"
      },
      "outputs": [],
      "source": [
        "num_locations = len(df.columns)   # number of possible sites to visit\n",
        "# creates a set with args: size, data type\n",
        "x = cp.Variable(num_locations,boolean=True)  # x is a vector of binary variables of size num_locations."
      ]
    },
    {
      "cell_type": "markdown",
      "metadata": {
        "id": "dPMc2aM3rczd"
      },
      "source": [
        "Next we'll define the objective function. Because we are **maximizing the total utility** that Katie wants to get out of her itinerary, we use the function `cp.Maximize()`, where we input the **objective function $\\sum^n_{i =1} v_i x_i$.**"
      ]
    },
    {
      "cell_type": "code",
      "execution_count": null,
      "metadata": {
        "id": "x6NolE9fsFkP"
      },
      "outputs": [],
      "source": [
        "utility_values = df.loc['utility']   # utility for each site\n",
        "obj = cp.Maximize(x@utility_values)   # x@utility_values computes the dot product, i.e., multiplies utility of each site with the corresponding variable and computes sum."
      ]
    },
    {
      "cell_type": "markdown",
      "metadata": {
        "id": "TY_S1y2oswzb"
      },
      "source": [
        "Next, we will define the **constraints**. We begin by initializing an empty list of constraints, to which we can **append all of the constraints we want to define**. For now, we only consider the **single knapsack capacity constraint**."
      ]
    },
    {
      "cell_type": "code",
      "execution_count": null,
      "metadata": {
        "id": "NbAUd5OKuyFq"
      },
      "outputs": [],
      "source": [
        "cons = [] #initialize constraint list\n",
        "\n",
        "time_values = df.loc['time']  # cost coefficient for the knapsack constraint\n",
        "cons.append(x@time_values <= 8)  # keep your total hours less than 8"
      ]
    },
    {
      "cell_type": "markdown",
      "metadata": {
        "id": "emjxHAJLYQTb"
      },
      "source": [
        "Finally, we put the model together. **cp.Problem(objective, constraints)**"
      ]
    },
    {
      "cell_type": "code",
      "execution_count": null,
      "metadata": {
        "id": "h5eTk7hSYVJf"
      },
      "outputs": [],
      "source": [
        "prob = cp.Problem(obj,cons)"
      ]
    },
    {
      "cell_type": "markdown",
      "metadata": {
        "id": "4VFYADGBQ3IV"
      },
      "source": [
        "## Solving the model"
      ]
    },
    {
      "cell_type": "markdown",
      "metadata": {
        "id": "nxBXPd0ww-tA"
      },
      "source": [
        "Now that the variables, objective, and constraints are defined, we can solve the problem."
      ]
    },
    {
      "cell_type": "code",
      "execution_count": null,
      "metadata": {
        "colab": {
          "base_uri": "https://localhost:8080/"
        },
        "id": "QApI9p_6xPJz",
        "outputId": "c87c4c73-722d-447b-fb32-d005726535b9"
      },
      "outputs": [
        {
          "output_type": "stream",
          "name": "stdout",
          "text": [
            "The objective value is 2.97.\n"
          ]
        }
      ],
      "source": [
        " # verbose = True allows you to see the solution process\n",
        "prob.solve(verbose=False)\n",
        "\n",
        "print('The objective value is {}.'.format(obj.value))  # gives you the optimal objective value\n",
        "# The objective value is 2.97."
      ]
    },
    {
      "cell_type": "markdown",
      "metadata": {
        "id": "mvWmWjXOQEgx"
      },
      "source": [
        "To extract the values of the variables, you can use the following code. The code is written compactly. Make sure to understand what each piece of the code is doing."
      ]
    },
    {
      "cell_type": "code",
      "execution_count": null,
      "metadata": {
        "colab": {
          "base_uri": "https://localhost:8080/"
        },
        "id": "2mN0ufjHxxUu",
        "outputId": "30c7fa65-b8d4-4a33-a3b8-f664892888c5"
      },
      "outputs": [
        {
          "output_type": "stream",
          "name": "stdout",
          "text": [
            "CN Tower     1\n",
            "ROM          0\n",
            "AGO          0\n",
            "UofT         0\n",
            "K. Market    1\n",
            "Casa Loma    1\n",
            "Ripleys      1\n",
            "High Park    0\n",
            "NP Square    1\n",
            "Island       0\n",
            "dtype: int64\n",
            "['CN Tower' 'K. Market' 'Casa Loma' 'Ripleys' 'NP Square']\n"
          ]
        }
      ],
      "source": [
        "#Extract the solution of the IP into a dataframe\n",
        "x_np_array = x.value.astype(int)  # extract the x values as a np array\n",
        "x_values = pd.Series(x_np_array, index = df.columns)  # convert the np array to a Dataframe\n",
        "selected = x_values[x_values == 1].index.values  # get assignments\n",
        "\n",
        "# Print outputs\n",
        "print(x_values)\n",
        "print(selected)"
      ]
    },
    {
      "cell_type": "markdown",
      "metadata": {
        "id": "pWxBkgEsXp8I"
      },
      "source": [
        "## Model Variant\n",
        "\n",
        "Suppose Katie is traveling with her brother Chris, who would like to see UofT, and also does not want to visit more than 3 locations. The complete code with Chris's conditions is presented below:"
      ]
    },
    {
      "cell_type": "code",
      "execution_count": null,
      "metadata": {
        "colab": {
          "base_uri": "https://localhost:8080/"
        },
        "id": "N4xoY5ldX7pW",
        "outputId": "0944d886-0fc6-4235-be84-04a92ecd4a90",
        "scrolled": true
      },
      "outputs": [
        {
          "output_type": "execute_result",
          "data": {
            "text/plain": [
              "2.0100000000000002"
            ]
          },
          "metadata": {},
          "execution_count": 11
        }
      ],
      "source": [
        "# Define variables\n",
        "x_2 = cp.Variable(len(df.columns), boolean=True)\n",
        "# Define objective\n",
        "obj_2 = cp.Maximize(x_2@df.loc['utility'])\n",
        "\n",
        "# Define constraints\n",
        "cons_2 = []  # Initialize constraint list\n",
        "cons_2.append(x_2@df.loc['time'] <= 8)  # time constraint\n",
        "cons_2.append(x_2[list(df.columns).index('UofT')] >= 1)  # must visit UofT constraint\n",
        "cons_2.append(cp.sum(x_2)<=3)  # must not visit more than 3 locations\n",
        "prob_2 = cp.Problem(obj_2,cons_2) # put model tgt\n",
        "prob_2.solve() # solve!\n",
        "\n",
        "# 2.0100000000000002"
      ]
    },
    {
      "cell_type": "markdown",
      "metadata": {
        "id": "euduIaktZ3q0"
      },
      "source": [
        "## Exercises"
      ]
    },
    {
      "cell_type": "markdown",
      "metadata": {
        "id": "BLn9Ag0NRW0Y"
      },
      "source": [
        "\n",
        "1. Suppose that Katie is traveling alone. If Katie wanted to visit at least one of the two museums (AGO or ROM), what constraint would we add into the model?\n",
        "\n",
        "\n",
        "\n",
        "\n"
      ]
    },
    {
      "cell_type": "code",
      "execution_count": null,
      "metadata": {
        "id": "8vgWxtPBi37G",
        "colab": {
          "base_uri": "https://localhost:8080/"
        },
        "outputId": "8be47d40-8b4f-4673-fef0-cedb2ae8c52b"
      },
      "outputs": [
        {
          "output_type": "execute_result",
          "data": {
            "text/plain": [
              "2.7800000000000002"
            ]
          },
          "metadata": {},
          "execution_count": 12
        }
      ],
      "source": [
        "# re-initialize data to ensure that dataframe is unaffected\n",
        "K_dict = {'CN Tower': [0.8, 2], 'ROM': [0.43,3], 'AGO': [ 0.56, 2.5], 'UofT': [0.46,1.5], 'K. Market': [0.4,1],\n",
        "          'Casa Loma': [0.6, 1.5], 'Ripleys': [0.75,2.5], 'High Park': [0.68, 2], 'NP Square': [0.42, 1], 'Island': [0.71,2.5]}\n",
        "\n",
        "# Convert dictionary to DataFrame\n",
        "df = pd.DataFrame(K_dict, index = ['utility', 'time'])\n",
        "\n",
        "# define new binary vector (visited or not)\n",
        "x_3 = cp.Variable(len(df.columns), boolean=True)\n",
        "\n",
        "# Define objective\n",
        "obj_3 = cp.Maximize(x_3@df.loc['utility'])\n",
        "\n",
        "# Define constraints\n",
        "cons_3 = []  # Initialize constraint list\n",
        "cons_3.append(x_3@df.loc['time'] <= 8)  # time constraint\n",
        "\n",
        "# Add constraint that at least one of AGO or ROM must be visited\n",
        "ago_index = list(df.columns).index('AGO')\n",
        "rom_index = list(df.columns).index('ROM')\n",
        "\n",
        "# in the binary vector x, the sum of the ago index and rom index must be at least 1\n",
        "cons_3.append(x_3[ago_index] + x_3[rom_index] >= 1)  # must visit AGO or ROM\n",
        "\n",
        "prob_3 = cp.Problem(obj_3,cons_3) # put model tgt\n",
        "prob_3.solve() # solve!"
      ]
    },
    {
      "cell_type": "markdown",
      "metadata": {
        "id": "PvLg54l6u4GP"
      },
      "source": [
        "2. Suppose again that Katie is traveling alone. We now consider the case where, for each destination, Katie is willing to spend *less* time that the guidebook suggests. Code up this fractional knapsack problem. Add the subscript \"_lp\" to names of variables, objective, constraints and the model, so that your code doesn't overlap with the models defined above. Hint: `x_lp >= 0` and `x_lp <= 1` together ensure that all of the variables are between 0 and 1.\n",
        "\n",
        " - 2a. What is her total utility?\n",
        "\n",
        "total utility was 3.0533333286\n",
        "\n",
        " - 2b. How did her itinerary change?\n",
        "\n",
        "she is now going to cn tower, uoft, kmarket, casaloma, high park, np square\n",
        "\n",
        " - 2c. What would we have to assume about Katie's utility function for this model to make sense? Hint: if Katie spends 50% of the estimated time at a location, how much utility would she get?\n",
        "\n",
        "the amount of utility you get for each location is directly proportional to the amount of time spent at that location. ex. if she spend half the time at the location it will be half the utility\n"
      ]
    },
    {
      "cell_type": "code",
      "execution_count": null,
      "metadata": {
        "colab": {
          "base_uri": "https://localhost:8080/"
        },
        "id": "trffOWUNcQo8",
        "outputId": "89faab13-a288-4b66-d565-2c7009c00082"
      },
      "outputs": [
        {
          "output_type": "stream",
          "name": "stdout",
          "text": [
            "Total utility:  3.0533333286\n",
            "Itinerary (fractions of time spent at each location):\n",
            "CN Tower     1.00\n",
            "ROM          0.00\n",
            "AGO          0.00\n",
            "UofT         0.33\n",
            "K. Market    1.00\n",
            "Casa Loma    1.00\n",
            "Ripleys      0.00\n",
            "High Park    1.00\n",
            "NP Square    1.00\n",
            "Island       0.00\n",
            "dtype: float64\n"
          ]
        }
      ],
      "source": [
        "# Question 2\n",
        "\n",
        "# define new binary vector (visited or not)\n",
        "x_lp = cp.Variable(len(df.columns), nonneg=True)\n",
        "\n",
        "# Define objective\n",
        "lp_obj = cp.Maximize(x_lp@df.loc['utility'])\n",
        "\n",
        "# Define new constraints\n",
        "cons_lp = []  # Initialize constraint list\n",
        "cons_lp.append(x_lp@df.loc['time'] <= 8)  # time constraint\n",
        "cons_lp.append(x_lp <= 1)\n",
        "cons_lp.append(x_lp >= 0)\n",
        "\n",
        "# create model and solve\n",
        "prob_lp = cp.Problem(lp_obj,cons_lp) # put model tgt\n",
        "prob_lp.solve() # solve!\n",
        "\n",
        "total_utility = round(prob_lp.value, 10)\n",
        "itinerary = pd.Series(x_lp.value, index = df.columns).round(2)\n",
        "\n",
        "print(\"Total utility: \", total_utility)\n",
        "print(\"Itinerary (fractions of time spent at each location):\")\n",
        "print(itinerary)\n"
      ]
    },
    {
      "cell_type": "markdown",
      "metadata": {
        "id": "AzzE7FirnXTj"
      },
      "source": [
        " 3. Consider Katie's original problem, but now suppose that she has only 7.75 free hours. Do you expect the LP relaxation (i.e., the fractional knapsack problem in the previous question) to give lower, the same, or higher total utility? Why?"
      ]
    },
    {
      "cell_type": "markdown",
      "metadata": {
        "id": "wXKwxs4PvTic"
      },
      "source": [
        "___\n",
        "\n",
        "**Question 3 Answer:** The LP relaxation of moving to continuous from discrete values will give a lower utility because time is a tight bound to the utility she is able to get\n",
        "\n",
        "\n",
        "___"
      ]
    },
    {
      "cell_type": "markdown",
      "metadata": {
        "id": "QCeLftIGR_D9"
      },
      "source": [
        "#Portfolio Optimization\n",
        "\n",
        "In this section, we will study another type of optimization problem, called portfolio optimization. The problem will be presented in the context of stock investing, although it can be applied to other settings (e.g., funding and investing in projects or medical research).\n",
        "\n",
        "In porfolio optimization, we are given a set of assets, and we are trying to decide on an\n",
        "\n",
        "***portfolio allocation vector* --> the fraction of our total wealth that we are investing in each asset.**\n",
        "\n",
        "$n$ different assets, and we have to decide on a vector $\\mathbf{x} = [x_1, x_2, \\ldots , x_n]$ such that $\\sum_{i = 1}^n x_i = 1$ and $x_i \\geq 0 \\ \\forall i \\in \\{0,1,.\\ldots,n\\}$.\n",
        "\n",
        "* sum of all fractions = 1 and all fractions are positive\n",
        "\n",
        "**The objective --> invest in assets that have high *return* but low *risk*.**\n",
        "\n"
      ]
    },
    {
      "cell_type": "markdown",
      "metadata": {
        "id": "BDqq8fpQapW8"
      },
      "source": [
        "## Model\n",
        "\n",
        "We define the portfolio optimization problem below.\n",
        "\n",
        "\n",
        "\\begin{array}{ll} \\underset{\\bf{x}}{\\mbox{maximize}} & \\boldsymbol{\\mu}^\\top {\\bf x} - \\gamma {\\bf x}^\\top\\Sigma {\\bf x}\\\\\n",
        "\\mbox{subject to} & {\\bf 1}^\\top {\\bf x = 1},\\\\\n",
        "& \\mathbf{x} \\geq \\mathbf{0}.\n",
        "\\end{array}\n",
        "\n",
        "The vector of $\\boldsymbol{\\mu}$ = $[\\mu_1, \\mu_2, ... \\mu_n]$ defines the ***expected return* of each stock.**\n",
        "- given a \\$100 dollar investment today in stock $i$ today, we expect to make \\$100$\\mu_i$ in the next period.\n",
        "- want to maximize our total expected return : $\\boldsymbol{\\mu}^\\top \\bf{x}$.\n",
        "\n",
        "We want to **minimize the *risk*** of the portfolio.\n",
        "\n",
        "Risk is defined by the variance of the portfolio.\n",
        "- higher the variance, the more likely you are to lose a lot of money.\n",
        "- portfolio variance is defined by the variance of each individual stock in your portfolio as well as the co-variance between the stocks in your portfolio\n",
        "- **Risk** :  ${\\bf{x}}^\\top \\Sigma {\\bf{x}}$,\n",
        "  -  where $\\Sigma$ denotes the covariance matrix of the stocks.\n",
        "  - To **minimize risk**, we use the negative term $-{\\bf{x}}^\\top \\Sigma {\\bf{x}}$ in the objective function.\n",
        "\n",
        "**Value of $\\gamma \\geq 0$ is the *risk aversion parameter***.\n",
        "- helps decide how much emphasis we want to put on minimizing risk, which generally comes at a cost of lowering expected return.\n",
        "- Ex. if we set $\\gamma = 0$, then we would be building a portfolio without considering risk at all.\n",
        "- We call the objective $\\mu^T\\mathbf{x} - \\gamma \\mathbf{x}^T\\Sigma \\mathbf{x}$ the *risk-adjusted return*.\n",
        "\n"
      ]
    },
    {
      "cell_type": "markdown",
      "metadata": {
        "id": "yc-frbTuYZaZ"
      },
      "source": [
        "## Return and Risk in Detail\n",
        "\n",
        "In this section, we will elaborate a bit more on the ideas of expected return and risk. While you will not be expected to understand the math in detail, it should serve to give a better idea of portfolio optimization for those who are interested.\n",
        "\n",
        "First, we discuss the topic of *expected* return. If we buy a stock at price $p_i$ and sell it at $p^*_i$ in the next period, we will make a return of $r_i = (p^*_i - p_i)/p_i$. At the time of buying stocks, however, we will not know exactly what the return of each stock will be. Nonetheless, we can estimate the *expected return* $\\mathbb{E}[r_i]$, which is denoted by $\\mu_i$. The first objective of portfolio optimization is to find a portfolio allocation vector $\\mathbf{x}$ such that the expected return $\\mathbb{E}[\\mathbf{R}] = \\sum^n_{i = 1} \\mu_i x_i$ is maximized.\n",
        "\n",
        "The second objective of portfolio optimization is to minimize the *risk* of the portfolio, which is represented by the *variance* of the portfolio $\\mathbf{x}^\\top \\Sigma \\mathbf{x}$, where $\\Sigma$ represents the covariance matrix. In particular, portfolio optimization assumes that investors are *risk averse*. That is, for the same expected return, investors would prefer a portfolio with low variance (for example, where the expected return is guaranteed) rather than a portfolio with high variance (there's a chance you lose all your money).\n",
        "\n",
        "The term $\\mathbf{x}^\\top \\Sigma \\mathbf{x}$ might look mysterious or complicated, but it easy to explain (and python packages will take care of the complicated operations :)). If we write out $\\mathbf{x}^\\top \\Sigma \\mathbf{x}$, we get $\\sum _{i}x_{i}^{2}\\sigma _{i}^{2}+\\sum _{i}\\sum _{j\\neq i}x_{i}x_{j}\\sigma _{i}\\sigma _{j}\\rho _{ij}$, where $\\sigma_i$ is the standard deviation of a stock $i$ and $\\rho_{ij}$ is the correlation coefficient between stock $i$ and $j$. The first term ($\\sum _{i}x_{i}^{2}\\sigma _{i}^{2}$) captures the *variance* of each stock, i.e., how volatile stock $i$ is. The second term ($\\sum _{i}\\sum _{j\\neq i}x_{i}x_{j}\\sigma _{i}\\sigma _{j}\\rho _{ij}$) captures the *co-variance* between stocks, i.e., how closely stock $i$ moves with respect to stock $j$. Naturally, we want to build a portfolio with stocks that have low volatility, as well as a diversified portfolio so that not all stocks follow the same trajectory.\n"
      ]
    },
    {
      "cell_type": "markdown",
      "metadata": {
        "id": "0QiNxb_iKliC"
      },
      "source": [
        "### Exercise\n",
        "\n",
        "1. Suppose $\\bf{x}_1$ and $\\bf{x}_2$ corresponds to two portolios built using $\\gamma_1$ and $\\gamma_2$, respectively. If $\\gamma_1 > \\gamma_2$, would I expect the variance of the portfolio $\\bf{x}_1$ to be higher or lower than $\\bf{x}_2$?\n",
        "\n"
      ]
    },
    {
      "cell_type": "markdown",
      "metadata": {
        "id": "swNoQAuRLRdX"
      },
      "source": [
        "___\n",
        "\n",
        "**Question 1 Answer:** Since we are more risk averse with gamma1 than gamma2, the variance of portfolio x_1 will be lower than that of portfolio x_2\n",
        "___"
      ]
    },
    {
      "cell_type": "markdown",
      "metadata": {
        "id": "lJKjhJ6QBwzk"
      },
      "source": [
        "## Getting Data\n",
        "\n",
        "In this lab, we will assume that $\\mu$ (mean) and $\\Sigma$ (covariance) are the mean and covariance of the historical returns of assets, respectively.\n",
        "- The following code will import daily stock prices from Yahoo Finance from Sept 1, 2019 to Sept 1, 2020 to calculate our $\\mu$ and $\\Sigma$.\n",
        "- Because these are average daily returns, the numbers will appear quite small.\n",
        "- We will only consider 30 (randomly) selected companies in the S&P 500 list. The code may take up to a minute to run.\n",
        "\n",
        "Finally, note that you **do not** have to understand or reproduce the following code, you will not be tested on it. We included it here simply for your own interest.\n"
      ]
    },
    {
      "cell_type": "code",
      "execution_count": null,
      "metadata": {
        "colab": {
          "base_uri": "https://localhost:8080/"
        },
        "id": "batDsMUsxdF2",
        "outputId": "8a987698-0328-48f4-b3e6-6afefcb41aac"
      },
      "outputs": [
        {
          "output_type": "stream",
          "name": "stdout",
          "text": [
            "Requirement already satisfied: yfinance in /usr/local/lib/python3.10/dist-packages (0.2.44)\n",
            "Requirement already satisfied: pandas>=1.3.0 in /usr/local/lib/python3.10/dist-packages (from yfinance) (2.2.2)\n",
            "Requirement already satisfied: numpy>=1.16.5 in /usr/local/lib/python3.10/dist-packages (from yfinance) (1.26.4)\n",
            "Requirement already satisfied: requests>=2.31 in /usr/local/lib/python3.10/dist-packages (from yfinance) (2.32.3)\n",
            "Requirement already satisfied: multitasking>=0.0.7 in /usr/local/lib/python3.10/dist-packages (from yfinance) (0.0.11)\n",
            "Requirement already satisfied: lxml>=4.9.1 in /usr/local/lib/python3.10/dist-packages (from yfinance) (4.9.4)\n",
            "Requirement already satisfied: platformdirs>=2.0.0 in /usr/local/lib/python3.10/dist-packages (from yfinance) (4.3.6)\n",
            "Requirement already satisfied: pytz>=2022.5 in /usr/local/lib/python3.10/dist-packages (from yfinance) (2024.2)\n",
            "Requirement already satisfied: frozendict>=2.3.4 in /usr/local/lib/python3.10/dist-packages (from yfinance) (2.4.4)\n",
            "Requirement already satisfied: peewee>=3.16.2 in /usr/local/lib/python3.10/dist-packages (from yfinance) (3.17.6)\n",
            "Requirement already satisfied: beautifulsoup4>=4.11.1 in /usr/local/lib/python3.10/dist-packages (from yfinance) (4.12.3)\n",
            "Requirement already satisfied: html5lib>=1.1 in /usr/local/lib/python3.10/dist-packages (from yfinance) (1.1)\n",
            "Requirement already satisfied: soupsieve>1.2 in /usr/local/lib/python3.10/dist-packages (from beautifulsoup4>=4.11.1->yfinance) (2.6)\n",
            "Requirement already satisfied: six>=1.9 in /usr/local/lib/python3.10/dist-packages (from html5lib>=1.1->yfinance) (1.16.0)\n",
            "Requirement already satisfied: webencodings in /usr/local/lib/python3.10/dist-packages (from html5lib>=1.1->yfinance) (0.5.1)\n",
            "Requirement already satisfied: python-dateutil>=2.8.2 in /usr/local/lib/python3.10/dist-packages (from pandas>=1.3.0->yfinance) (2.8.2)\n",
            "Requirement already satisfied: tzdata>=2022.7 in /usr/local/lib/python3.10/dist-packages (from pandas>=1.3.0->yfinance) (2024.2)\n",
            "Requirement already satisfied: charset-normalizer<4,>=2 in /usr/local/lib/python3.10/dist-packages (from requests>=2.31->yfinance) (3.3.2)\n",
            "Requirement already satisfied: idna<4,>=2.5 in /usr/local/lib/python3.10/dist-packages (from requests>=2.31->yfinance) (3.10)\n",
            "Requirement already satisfied: urllib3<3,>=1.21.1 in /usr/local/lib/python3.10/dist-packages (from requests>=2.31->yfinance) (2.2.3)\n",
            "Requirement already satisfied: certifi>=2017.4.17 in /usr/local/lib/python3.10/dist-packages (from requests>=2.31->yfinance) (2024.8.30)\n"
          ]
        }
      ],
      "source": [
        "# First, we install the yfinance package, which is not on Colab by defualt.\n",
        "!pip install -U yfinance"
      ]
    },
    {
      "cell_type": "code",
      "execution_count": null,
      "metadata": {
        "id": "xiD4XAFKxeJQ"
      },
      "outputs": [],
      "source": [
        "import datetime  # Package for making dates\n",
        "\n",
        "import yfinance as yf  # Great package for getting data from yahoo finance\n"
      ]
    },
    {
      "cell_type": "code",
      "execution_count": null,
      "metadata": {
        "colab": {
          "base_uri": "https://localhost:8080/"
        },
        "id": "AJIxAL8RYZG4",
        "outputId": "f0d5a3f4-94b1-4423-8294-c86f3380e057"
      },
      "outputs": [
        {
          "output_type": "stream",
          "name": "stderr",
          "text": [
            "[*********************100%***********************]  30 of 30 completed"
          ]
        },
        {
          "output_type": "stream",
          "name": "stdout",
          "text": [
            "Ticker\n",
            "ALK    -0.003721\n",
            "ALL     0.000036\n",
            "AMGN    0.001932\n",
            "APTV   -0.000333\n",
            "CBRE    0.000710\n",
            "dtype: float64\n",
            "Ticker       ALK       ALL      AMGN      APTV      CBRE       CDW       CMG  \\\n",
            "Ticker                                                                         \n",
            "ALK     0.001044  0.000178 -0.000030  0.000346  0.000258  0.000179  0.000133   \n",
            "ALL     0.000178  0.000393  0.000114  0.000215  0.000232  0.000200  0.000141   \n",
            "AMGN   -0.000030  0.000114  0.000336  0.000003  0.000100  0.000140  0.000038   \n",
            "APTV    0.000346  0.000215  0.000003  0.001069  0.000276  0.000200  0.000364   \n",
            "CBRE    0.000258  0.000232  0.000100  0.000276  0.000797  0.000315  0.000196   \n",
            "\n",
            "Ticker        DG       DIS       DOW  ...       PNW      PODD       PRU  \\\n",
            "Ticker                                ...                                 \n",
            "ALK     0.000039  0.000257  0.000230  ...  0.000140 -0.000094  0.000314   \n",
            "ALL     0.000068  0.000159  0.000140  ...  0.000160  0.000034  0.000212   \n",
            "AMGN    0.000131  0.000095  0.000071  ...  0.000122  0.000081  0.000132   \n",
            "APTV   -0.000039  0.000209  0.000242  ...  0.000245  0.000141  0.000145   \n",
            "CBRE   -0.000014  0.000345  0.000311  ...  0.000231  0.000179  0.000399   \n",
            "\n",
            "Ticker       RJF       RMD       SRE       SYY       UNP      VICI        VZ  \n",
            "Ticker                                                                        \n",
            "ALK     0.000315  0.000043  0.000074  0.000355  0.000118  0.000211  0.000083  \n",
            "ALL     0.000271  0.000175  0.000114  0.000249  0.000135  0.000124  0.000118  \n",
            "AMGN    0.000152  0.000236  0.000110 -0.000018  0.000074  0.000011  0.000090  \n",
            "APTV    0.000077 -0.000066  0.000036  0.000498  0.000255  0.000421  0.000062  \n",
            "CBRE    0.000363  0.000129  0.000243  0.000476  0.000203  0.000214  0.000099  \n",
            "\n",
            "[5 rows x 30 columns]\n"
          ]
        },
        {
          "output_type": "stream",
          "name": "stderr",
          "text": [
            "\n"
          ]
        }
      ],
      "source": [
        "# datetime.datetime is a data type within the datetime module\n",
        "start = datetime.datetime(2019, 9, 1)\n",
        "end = datetime.datetime(2020, 9, 1)\n",
        "\n",
        "# 30 pre-specified tickers from the S&P500 list.\n",
        "tickers_list = ['KMX', 'CDW', 'VICI', 'NKE', 'RJF', 'ALK', 'MU', 'SRE', 'DOW',\n",
        "                'DIS', 'SYY', 'IR', 'PODD', 'GE', 'ELV', 'MTB', 'VZ', 'FDS',\n",
        "                'DG', 'AMGN', 'FTV', 'PRU', 'UNP', 'CMG', 'APTV', 'RMD', 'ALL',\n",
        "                'PNW', 'CBRE', 'HLT']\n",
        "\n",
        "# Load data from yahoo\n",
        "df = yf.download(tickers_list, start, end)\n",
        "daily_gains = (df.Close - df.Open) / df.Open\n",
        "\n",
        "# Get close prices\n",
        "average_return = daily_gains.mean()\n",
        "covariance = daily_gains.cov()\n",
        "\n",
        "# Print summary of data\n",
        "print(average_return.head())\n",
        "print(covariance.head())\n",
        "\n",
        "# Estimate parameters for portfolio optimization model\n",
        "mu = average_return.values    #convert dataframe to array\n",
        "Sigma = covariance.values    #convert dataframe to matrix\n"
      ]
    },
    {
      "cell_type": "markdown",
      "metadata": {
        "id": "y88k0GfWiYGw"
      },
      "source": [
        "### Exercises\n",
        "\n",
        "1. What is the stock with the highest mean return? What is its expected return?\n",
        "\n",
        "2. What is the stock with the lowest mean return? What is its expected return?\n",
        "\n"
      ]
    },
    {
      "cell_type": "code",
      "execution_count": null,
      "metadata": {
        "colab": {
          "base_uri": "https://localhost:8080/"
        },
        "id": "xDLCA3beq9SU",
        "outputId": "2eca2530-b2c5-4a70-ddaf-8ea05866c620"
      },
      "outputs": [
        {
          "output_type": "stream",
          "name": "stdout",
          "text": [
            "The stock with highest mean return is IR with a return of 0.002558351407578596.\n",
            "The stock with lowest mean return is ALK with a return of -0.003721334019941971.\n"
          ]
        }
      ],
      "source": [
        "#Write your code here.\n",
        "print(f\"The stock with highest mean return is {average_return.idxmax()} with a return of {max(average_return)}.\")\n",
        "print(f\"The stock with lowest mean return is {average_return.idxmin()} with a return of {min(average_return)}.\")"
      ]
    },
    {
      "cell_type": "markdown",
      "metadata": {
        "id": "4XFsaAb2wF1v"
      },
      "source": [
        "3. Do you observe any negative values in the covariance matrix? What does a negative value mean?\n",
        "\n"
      ]
    },
    {
      "cell_type": "markdown",
      "metadata": {
        "id": "u-bpRE67wQqP"
      },
      "source": [
        "___\n",
        "\n",
        "**Question 3 answer:** The negatives in the covariance matrix means those variables move in the opposite direction of each other"
      ]
    },
    {
      "cell_type": "markdown",
      "metadata": {
        "id": "VPwBH0_kwUGX"
      },
      "source": [
        "4. Assume that you are already holding a stock (stock A), and have to choose one more stock to invest in. Suppose stock B and C both have the same expected return and variance, but stock B has a higher covariance with A. Which stock (B or C) would you invest in, assuming you are risk-averse?"
      ]
    },
    {
      "cell_type": "markdown",
      "metadata": {
        "id": "NkUuErMSwRiH"
      },
      "source": [
        "___\n",
        "\n",
        "**Question 4 answer:** Since we are risk averse and we already have stock A, we will assume stock A is risk averse as well. Since stock B and A have higher covariance we will go with stock B since it will probably be less risky as well.\n",
        "___"
      ]
    },
    {
      "cell_type": "markdown",
      "metadata": {
        "id": "0Z9npq3Cic4q"
      },
      "source": [
        "## Setting up CVXPY model\n",
        "\n"
      ]
    },
    {
      "cell_type": "markdown",
      "metadata": {
        "id": "N3xYrn6j8mch"
      },
      "source": [
        "In this section, we will show you how to code up and solve the portfolio optimization problem in `cvxpy`. The notation is almost identical to the linear and integer programming model, except we require a new function to formulate the quadratic objective function. The code is shown below:\n",
        "\n",
        "\n",
        "higher gamma - more weight on variance,"
      ]
    },
    {
      "cell_type": "code",
      "execution_count": null,
      "metadata": {
        "id": "CLQH8NYqigUo"
      },
      "outputs": [],
      "source": [
        "# import cvxpy as cp\n",
        "\n",
        "#variable and parameter definitions\n",
        "x = cp.Variable(len(mu))\n",
        "gamma = cp.Parameter(nonneg = True) # risk aversion parameter\n",
        "\n",
        "#objective definition (return - gamma * risk)\n",
        "# define return and risk variables\n",
        "ret = mu.T@x\n",
        "risk = cp.quad_form(x, Sigma)\n",
        "\n",
        "# use ret, gamma, and risk variables in cp.Maximize\n",
        "obj = cp.Maximize(ret - gamma*risk)\n",
        "\n",
        "#constraint definition (list)\n",
        "cons = []\n",
        "# the sum of all x\n",
        "cons.append(cp.sum(x) == 1)\n",
        "cons.append(x >= 0)\n",
        "\n",
        "#formulating the problem\n",
        "prob = cp.Problem(obj, cons)"
      ]
    },
    {
      "cell_type": "markdown",
      "metadata": {
        "id": "o1RJ-0gkjhgp"
      },
      "source": [
        "To solve the problem for a given $\\gamma$, we can simply just set it equal to some value and then apply the prob.solve() command. However, as a decision-maker, we may not be sure what the most preferred $\\gamma$ is. Instead, we can use the code below to compute the *trade-off curve* between return and risk, which plots the return and risk for a large set of $\\gamma$'s.\n",
        "\n",
        "The curve can be interpreted as: for each level of risk (x-axis), the maxmimum return possible is shown (y-axis).  As is often the case in modern portfolio theory, we will plot the standard deviation of a porfolio rather than the variance on the x-axis. Both concepts capture the notion of risk, since the standard deviation is simply the square root of variance. The larger the standard deviation, the larger the variance, and vice versa."
      ]
    },
    {
      "cell_type": "code",
      "execution_count": null,
      "metadata": {
        "colab": {
          "base_uri": "https://localhost:8080/",
          "height": 444
        },
        "id": "BiKuTP0VigMR",
        "outputId": "41dbda20-2b0a-41f0-8d60-ed5d65e4522d"
      },
      "outputs": [
        {
          "output_type": "display_data",
          "data": {
            "text/plain": [
              "<Figure size 640x480 with 1 Axes>"
            ],
            "image/png": "[encoded data removed]"
          },
          "metadata": {}
        }
      ],
      "source": [
        "# Initialize values\n",
        "SAMPLES = 100   # number of gammas we will use\n",
        "risk_data = np.zeros(SAMPLES)  # creating array of zeros\n",
        "ret_data = np.zeros(SAMPLES)  # creating array of zeros\n",
        "gamma_vals = np.logspace(-2,3, num = SAMPLES)  #creating a array of different gamma values\n",
        "\n",
        "# Loop through different gamma values/samples\n",
        "for i in range(SAMPLES):\n",
        "  gamma.value = gamma_vals[i]\n",
        "  prob.solve()\n",
        "  risk_data[i] = cp.sqrt(risk).value  #square root of elements of covariance matrix\n",
        "  ret_data[i] = ret.value   #expected return of stocks\n",
        "\n",
        "# Plot the trade-off curve\n",
        "markers_on = [1,50,60]\n",
        "fig = plt.figure()\n",
        "ax = fig.add_subplot(111)\n",
        "plt.plot(risk_data, ret_data, 'g-')\n",
        "for marker in markers_on:\n",
        "    plt.plot(risk_data[marker], ret_data[marker], 'bs')\n",
        "    ax.annotate(r\"$\\gamma = %.2f$\" % gamma_vals[marker], xy=(risk_data[marker], ret_data[marker]-.00025))\n",
        "plt.xlabel('Standard deviation')\n",
        "plt.ylabel('Return')\n",
        "plt.grid(alpha=0.3)\n",
        "plt.show()"
      ]
    },
    {
      "cell_type": "markdown",
      "metadata": {
        "id": "tL8MSrrjRWPF"
      },
      "source": [
        "## Conceptual Exercises\n",
        "\n",
        "1. Why does the curve go to the bottom-left corner as we increase $\\gamma$?\n",
        "\n",
        "\n"
      ]
    },
    {
      "cell_type": "markdown",
      "metadata": {
        "id": "FMoJF3YNwmHV"
      },
      "source": [
        "___\n",
        "\n",
        "**Question 1 answer:** The standard deviation decreases as the variance (risk) decreases. As risk decreases, return also decreases. Lower risk --> lower reward\n",
        "___"
      ]
    },
    {
      "cell_type": "markdown",
      "metadata": {
        "id": "FiDolvPcwg23"
      },
      "source": [
        "2. If our current (optimally constructed) portfolio has an expected standard deviation of 0.021, and we want to reduce the standard deviation to be 0.015, what is the expected *loss* in returns? A rough approximation is fine, this is just to get you familiar with interpreting the graph.\n",
        "\n"
      ]
    },
    {
      "cell_type": "markdown",
      "metadata": {
        "id": "cFc0ukWtwm-d"
      },
      "source": [
        "___\n",
        "\n",
        "**Question 2 answer:** 0.00250-0.00225=0.00025\n",
        "\n",
        "The expected loss in returns is 0.00025\n",
        "___"
      ]
    },
    {
      "cell_type": "markdown",
      "metadata": {
        "id": "QtgqInLkwigP"
      },
      "source": [
        "3. Do you think that the expected return of the portfolio will continue to increase as $\\gamma$ approaches zero, or do you think there would be an upper bound? What would this upper bound be?"
      ]
    },
    {
      "cell_type": "markdown",
      "metadata": {
        "id": "m_bupNokwoGu"
      },
      "source": [
        "___\n",
        "\n",
        "**Question 3 answer:** The expected return of the portfolio will continue to increase as gamma approaches zero up until gamma is 0 where the risk portion of the objective function will be set to 0 and so the upper bound would be mu transposed * x which is just the total expected return with no risk (risk free rate)\n",
        "___"
      ]
    },
    {
      "cell_type": "markdown",
      "metadata": {
        "id": "bduq0CvG9_M4"
      },
      "source": [
        "## Coding Exercises\n",
        "\n",
        "Now it's time for you to practice coding! Try coding up the following problem:\n",
        "\n",
        "1. Suppose we want to build a portfolio where the **expected return is at least 0.001.**\n",
        "\n",
        "Solve for the **portfolio with the lowest possible variance in this setting**.\n",
        "  - What is the portfolio allocation vector, the expected return, and the variance?\n",
        "  - How many stocks are you investing in?\n",
        "\n"
      ]
    },
    {
      "cell_type": "code",
      "execution_count": null,
      "metadata": {
        "colab": {
          "base_uri": "https://localhost:8080/"
        },
        "id": "YohX0fQnbxVR",
        "outputId": "c1948c5a-0250-4cdd-f2f9-33d2d9620253"
      },
      "outputs": [
        {
          "output_type": "stream",
          "name": "stdout",
          "text": [
            "[-0.     -0.      0.0711 -0.     -0.     -0.      0.      0.18   -0.\n",
            " -0.     -0.      0.      0.     -0.      0.1288  0.0798  0.     -0.\n",
            "  0.      0.0037 -0.      0.0696 -0.     -0.      0.     -0.     -0.\n",
            "  0.091   0.0194  0.3567]\n",
            "we're investing in 9 stocks\n",
            "The expected return of this portfolio is 0.001\n",
            "The variance of this portfolio is 8.646485137471934e-05\n"
          ]
        }
      ],
      "source": [
        "# Write your code here\n",
        "# Hint: you can use np.round() and np.count_nonzero() functions.\n",
        "\n",
        "x = cp.Variable(len(mu))\n",
        "gamma = cp.Parameter(nonneg = True) # risk aversion param\n",
        "\n",
        "# define obj function\n",
        "ret = mu.T@x\n",
        "risk = cp.quad_form(x, Sigma)\n",
        "# minmize variance = minimize risk\n",
        "obj = cp.Minimize(risk)\n",
        "\n",
        "# constraints\n",
        "const = []\n",
        "const.append(cp.sum(x) == 1) # sum to 1\n",
        "const.append(x >= 0) # positive x\n",
        "const.append(ret >= 0.001) # return value constraints\n",
        "\n",
        "# form LP\n",
        "prob = cp.Problem(obj, const)\n",
        "prob.solve()\n",
        "x = x.value\n",
        "\n",
        "print(x.round(4))\n",
        "print(f\"we're investing in {np.count_nonzero(x.round(4))} stocks\")\n",
        "print(f\"The expected return of this portfolio is {ret.value}\")\n",
        "print(f\"The variance of this portfolio is {risk.value}\")\n",
        "\n",
        "# --------------"
      ]
    },
    {
      "cell_type": "markdown",
      "metadata": {
        "id": "PwsGKSxJwyTW"
      },
      "source": [
        "2. Suppose we want to build a portfolio using ***only* stocks that have an expected return of at least 0.001**.\n",
        "- Solve for the portfolio with the lowest possible variance in this setting.    \n",
        " - What is the portfolio allocation vector, the expected return, and the variance?\n",
        "  - How many stocks are you investing in?\n",
        "\n"
      ]
    },
    {
      "cell_type": "code",
      "execution_count": null,
      "metadata": {
        "colab": {
          "base_uri": "https://localhost:8080/"
        },
        "id": "SK_-kwMSdJwZ",
        "outputId": "524da5ec-f002-42c2-a1d4-907cde8d7739"
      },
      "outputs": [
        {
          "output_type": "stream",
          "name": "stdout",
          "text": [
            "[-0.     -0.      0.2695 -0.     -0.     -0.     -0.     -0.     -0.\n",
            " -0.     -0.      0.0251 -0.     -0.     -0.      0.0961  0.0297 -0.\n",
            " -0.      0.2223 -0.      0.1093 -0.      0.      0.     -0.     -0.\n",
            "  0.248  -0.     -0.    ]\n",
            "we're investing in 7 stocks\n",
            "The expected return of this portfolio is 0.0015591440171526317\n",
            "The variance of this portfolio is 0.00014866491198839516\n"
          ]
        }
      ],
      "source": [
        "# Write your code here\n",
        "# Hint: you can use np.round() and np.count_nonzero() functions.\n",
        "\n",
        "# DEFINE VARIABLES\n",
        "# x is our decision variable (weights assigned to each stock in portfolio)\n",
        "x = cp.Variable(len(mu))\n",
        "# parameter (non-negative constant) for risk aversion\n",
        "gamma = cp.Parameter(nonneg = True)\n",
        "\n",
        "# OBJECTIVE FUNCTION\n",
        "# dot product of mu (stock expected returns) and x (portfolio weights)\n",
        "ret = mu.T@x # return\n",
        "# quadratic form of x (portfolio weights) and Sigma (covariance matrix)\n",
        "risk = cp.quad_form(x, Sigma)\n",
        "# objective to minmize variance (to do this we minimize risk)\n",
        "obj = cp.Minimize(risk)\n",
        "\n",
        "# constraints\n",
        "const = []\n",
        "# entire budget is allocated\n",
        "const.append(cp.sum(x) == 1) # sum to 1\n",
        "const.append(x >= 0) # positive x\n",
        "# creates a boolean variable where True means expected return > 0.001\n",
        "filter = mu > 0.001\n",
        "# ~ inverts the mask\n",
        "# gets selected stocks w expected returns less than or equal to -0.001\n",
        "# these selected stocks are ensured to be 0 so we only get > 0.001\n",
        "const.append(x[~filter] == 0)\n",
        "\n",
        "# form LP\n",
        "# creates the optimization problem\n",
        "prob = cp.Problem(obj, const)\n",
        "# solves the problem\n",
        "prob.solve()\n",
        "# outputs!\n",
        "x = x.value\n",
        "\n",
        "print(x.round(4))\n",
        "print(f\"we're investing in {np.count_nonzero(x.round(4))} stocks\")\n",
        "print(f\"The expected return of this portfolio is {ret.value}\")\n",
        "print(f\"The variance of this portfolio is {risk.value}\")"
      ]
    },
    {
      "cell_type": "markdown",
      "metadata": {
        "id": "rzCoRFZjw0mF"
      },
      "source": [
        "3. The variance of the first portfolio is lower (hence \"better\") than the second portfolio. Why do you think that is?"
      ]
    },
    {
      "cell_type": "markdown",
      "metadata": {
        "id": "mMYHpAGbxDls"
      },
      "source": [
        "___\n",
        "\n",
        "**Question 3 Answer:** The 2nd portfolio is a smaller set of stocks since we constrained our options to stocks with returns > 0.001. In the first portfolio there were more options for us to look at to find lower risk stocks. These lower risk stocks are generally the lower return stocks which we ignored in the 2nd portfolio due to our constraint of returns > 0.001.\n",
        "___"
      ]
    },
    {
      "cell_type": "code",
      "source": [
        "import cvxpy as cp\n",
        "import numpy as np\n",
        "\n",
        "# variables\n",
        "x = cp.Variable(len(mu))  # portfolio allocation vector\n",
        "gamma = cp.Parameter(nonneg=True)  # risk aversion parameter\n",
        "\n",
        "# Objective: Maximize return while still considering risk (with lower weight)\n",
        "ret = mu.T @ x  # portfolio return\n",
        "risk = cp.quad_form(x, Sigma)  # portfolio risk / variance\n",
        "\n",
        "# modify the objective to maximize return while considering a lower-weighted risk term\n",
        "gamma.value = 0.1  # smaller value to prioritize return\n",
        "obj = cp.Maximize(ret - gamma * risk)\n",
        "\n",
        "# Define constraints\n",
        "const = []\n",
        "const.append(cp.sum(x) == 1)  # ensure the sum of portfolio weights is 1\n",
        "const.append(x >= 0)  # ensure no short-selling (non-negative weights)\n",
        "\n",
        "# Optional: add a constraint for a minimum expected return\n",
        "target_return = 0.002  # set a higher target return threshold\n",
        "const.append(ret >= target_return)\n",
        "\n",
        "# Formulate the problem\n",
        "prob = cp.Problem(obj, const)\n",
        "\n",
        "# Solve the problem\n",
        "prob.solve()\n",
        "\n",
        "# Get optimized portfolio\n",
        "x_optimal = x.value\n",
        "\n",
        "# Output results\n",
        "print(x_optimal.round(4))  # Display portfolio allocation\n",
        "print(f\"We're investing in {np.count_nonzero(x_optimal.round(4))} stocks\")\n",
        "print(f\"The expected return of this portfolio is {ret.value}\")\n",
        "print(f\"The variance of this portfolio is {risk.value}\")\n"
      ],
      "metadata": {
        "colab": {
          "base_uri": "https://localhost:8080/"
        },
        "id": "o5S9ldHgiu8Z",
        "outputId": "d83cc67c-591c-4284-b14d-a4b99682ca29"
      },
      "execution_count": null,
      "outputs": [
        {
          "output_type": "stream",
          "name": "stdout",
          "text": [
            "[ 0.  0. -0.  0.  0.  0.  0.  0.  0.  0.  0.  0.  0.  0.  0.  1. -0.  0.\n",
            "  0.  0.  0.  0.  0.  0.  0.  0. -0.  0.  0.  0.]\n",
            "We're investing in 1 stocks\n",
            "The expected return of this portfolio is 0.0025583514075785962\n",
            "The variance of this portfolio is 0.0005521846938342086\n"
          ]
        }
      ]
    },
    {
      "cell_type": "markdown",
      "source": [
        "The model is prioritizing maximizing return with only a small emphasis on minimizing risk (since gamma is set to a low value). This results in the optimizer selecting the stock with the highest expected return (at index 15) and ignoring other options.\n",
        "\n",
        "Going forward we might increase gamma to encourage diversification of stock choices or add constraints to target more stocks."
      ],
      "metadata": {
        "id": "kEMnHGpFjWLY"
      }
    },
    {
      "cell_type": "markdown",
      "metadata": {
        "id": "nXlyI4bxPLSn"
      },
      "source": [
        "# Reflection\n",
        "\n",
        "In this lab, you learn how to model, code and solve optimization problems. A major assumption of this lab is that the parameters of the optimization problem are known. For example, we assumed that the expected return and covariance matrix of the stocks could be generated using historical estimates.\n",
        "\n",
        "In real-world applications, you not only have to solve optimization problems, but you also have the estimate the parameters of your optimization problem. In one of the future labs we will cover a *predict-and-optimize* process, where we use machine learning techniques to predict parameters which we can then feed into an optimization model. This approach combines predictive and prescriptive analytics."
      ]
    }
  ],
  "metadata": {
    "colab": {
      "provenance": []
    },
    "kernelspec": {
      "display_name": "Python [conda env:base] *",
      "language": "python",
      "name": "conda-base-py"
    },
    "language_info": {
      "codemirror_mode": {
        "name": "ipython",
        "version": 3
      },
      "file_extension": ".py",
      "mimetype": "text/x-python",
      "name": "python",
      "nbconvert_exporter": "python",
      "pygments_lexer": "ipython3",
      "version": "3.11.7"
    }
  },
  "nbformat": 4,
  "nbformat_minor": 0
}